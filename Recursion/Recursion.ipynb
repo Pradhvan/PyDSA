{
 "cells": [
  {
   "cell_type": "code",
   "execution_count": 32,
   "id": "116f896e",
   "metadata": {},
   "outputs": [],
   "source": [
    "from sys import setrecursionlimit\n",
    "setrecursionlimit(33000)"
   ]
  },
  {
   "cell_type": "code",
   "execution_count": 1,
   "id": "99b23b67",
   "metadata": {},
   "outputs": [],
   "source": [
    "def fact(n):\n",
    "    # Base Case\n",
    "    if n == 0:\n",
    "        return 1\n",
    "    small_output = fact(n-1)\n",
    "    return n * small_output"
   ]
  },
  {
   "cell_type": "code",
   "execution_count": 13,
   "id": "4528072d",
   "metadata": {},
   "outputs": [],
   "source": [
    "def sum(n):\n",
    "    # Base Case\n",
    "    if n == 0:\n",
    "        return 0\n",
    "    # Induction Hypothesis\n",
    "    small_output = sum_n(n-1)\n",
    "    output = small_output + n\n",
    "    return output"
   ]
  },
  {
   "cell_type": "code",
   "execution_count": 18,
   "id": "ef06810d",
   "metadata": {},
   "outputs": [
    {
     "data": {
      "text/plain": [
       "8"
      ]
     },
     "execution_count": 18,
     "metadata": {},
     "output_type": "execute_result"
    }
   ],
   "source": [
    "def power(x, n):\n",
    "    # Base Case\n",
    "    if n == 0:\n",
    "        return 1\n",
    "    \"\"\"\n",
    "    Variables like small_output, output are created \n",
    "    for all function calls in recursion.\n",
    "    \"\"\"\n",
    "    small_output = power(x, n-1)\n",
    "    output = x * small_output\n",
    "    return output\n",
    "\n",
    "power(2,3)"
   ]
  },
  {
   "cell_type": "code",
   "execution_count": 24,
   "id": "0e314b7c",
   "metadata": {},
   "outputs": [
    {
     "name": "stdout",
     "output_type": "stream",
     "text": [
      "1 2 3 4 "
     ]
    }
   ],
   "source": [
    "def print_1_n(n):\n",
    "    if n == 0:\n",
    "        return \n",
    "    print_1_n(n-1)\n",
    "    print(n, end=' ')\n",
    "\n",
    "print_1_n(4)"
   ]
  },
  {
   "cell_type": "code",
   "execution_count": 29,
   "id": "56f0b8a9",
   "metadata": {},
   "outputs": [
    {
     "name": "stdout",
     "output_type": "stream",
     "text": [
      "4 3 2 1 "
     ]
    }
   ],
   "source": [
    "def print_n_1(n):\n",
    "    if n == 0:\n",
    "        return\n",
    "    \n",
    "    # Why do we need this here ?\n",
    "    print(n, end=' ')\n",
    "    print_n_1(n-1)\n",
    "    # print(n, end=' ')\n",
    "\n",
    "print_n_1(4)"
   ]
  },
  {
   "cell_type": "code",
   "execution_count": 31,
   "id": "868a7fd6",
   "metadata": {},
   "outputs": [
    {
     "data": {
      "text/plain": [
       "3"
      ]
     },
     "execution_count": 31,
     "metadata": {},
     "output_type": "execute_result"
    }
   ],
   "source": [
    "def fib(n):\n",
    "    # Base case\n",
    "    if n == 1 or n == 2:\n",
    "        return 1\n",
    "    fib_n_1 = fib(n-1)\n",
    "    fib_n_2 = fib(n-2)\n",
    "    output = fib_n_1 + fib_n_2\n",
    "    return output\n",
    "\n",
    "fib(4)"
   ]
  },
  {
   "cell_type": "code",
   "execution_count": 12,
   "id": "5b9f3f41",
   "metadata": {},
   "outputs": [
    {
     "data": {
      "text/plain": [
       "False"
      ]
     },
     "execution_count": 12,
     "metadata": {},
     "output_type": "execute_result"
    }
   ],
   "source": [
    "def is_sorted(l):\n",
    "    \"\"\"\n",
    "    Check if the list is sorted or not\n",
    "    \"\"\"\n",
    "    size = len(l)\n",
    "    if size < 2:\n",
    "        return True\n",
    "    # Compare the fist two elements of the list.\n",
    "    if l[0] > l[1]:\n",
    "        return False\n",
    "    # Slicing is a heavy process!\n",
    "    l = l[1:]\n",
    "    return is_sorted(l)\n",
    "\n",
    "l = [1,2,3,34,1231,123,0,12,61,322]\n",
    "is_sorted(l)"
   ]
  },
  {
   "cell_type": "code",
   "execution_count": 33,
   "id": "38008a1d",
   "metadata": {},
   "outputs": [
    {
     "data": {
      "text/plain": [
       "True"
      ]
     },
     "execution_count": 33,
     "metadata": {},
     "output_type": "execute_result"
    }
   ],
   "source": [
    "# Broken Code!\n",
    "\n",
    "def is_sorted_2(a, start_index):\n",
    "    \"\"\"\n",
    "    Optimized solution as slicing in the previous\n",
    "    solution is very computation heavy.\n",
    "    \"\"\"\n",
    "    size = len(a)\n",
    "    # Base Case \n",
    "    if start_index == size - 1 or start_index == 1:\n",
    "        return True\n",
    "    # Two elements are not sorted\n",
    "    if a[start_index] > a[start_index + 1]:\n",
    "        return False\n",
    "    is_smaller_part_sorted =  is_sorted_2(a, start_index + 1)\n",
    "    return is_smaller_part_sorted\n",
    "\n",
    "a = [1,2,3,40,5]\n",
    "start_index = 0\n",
    "is_sorted(a, start_index)"
   ]
  },
  {
   "cell_type": "code",
   "execution_count": 45,
   "id": "01487509",
   "metadata": {},
   "outputs": [
    {
     "data": {
      "text/plain": [
       "33"
      ]
     },
     "execution_count": 45,
     "metadata": {},
     "output_type": "execute_result"
    }
   ],
   "source": [
    "def sum_list(n, l):\n",
    "    \"\"\"\n",
    "    Given an array of length N, list l\n",
    "    you need to find and \n",
    "    return the sum of all elements of the array.\n",
    "    \"\"\"\n",
    "    # If n == 0 the list(l) will be \n",
    "    # out of range as when n = 0\n",
    "    # l is an empty list\n",
    "    if n == 1:\n",
    "        return l[0]\n",
    "    addition = l[0] + sum_list(n-1, l[1:])\n",
    "    return addition\n",
    "\n",
    "sum_list(3,[10,20,3])"
   ]
  },
  {
   "cell_type": "code",
   "execution_count": 81,
   "id": "32b68b69",
   "metadata": {},
   "outputs": [
    {
     "name": "stdout",
     "output_type": "stream",
     "text": [
      "Number is found!!\n"
     ]
    },
    {
     "data": {
      "text/plain": [
       "True"
      ]
     },
     "execution_count": 81,
     "metadata": {},
     "output_type": "execute_result"
    }
   ],
   "source": [
    "# A lot of extra code here that can be made more Pythonic!\n",
    "def check(l, num):\n",
    "    \"\"\"\n",
    "    Given an array of list l, number num\n",
    "    check if the given number is present \n",
    "    in the list.\n",
    "    \"\"\"\n",
    "    size = len(l)\n",
    "    \n",
    "    if size == 1:\n",
    "        if l[0] != num:\n",
    "            print(\"Number is not found!\")\n",
    "            return False\n",
    "        else:\n",
    "            print(\"Number is found!\")\n",
    "            return True\n",
    "    \n",
    "    if l[0] == num:\n",
    "        print(\"Number is found!!\")\n",
    "        return True\n",
    "    \n",
    "    return check(l[1:], num)\n",
    "\n",
    "\n",
    "check([1,2,3], 2)"
   ]
  },
  {
   "cell_type": "code",
   "execution_count": null,
   "id": "a9ec5350",
   "metadata": {},
   "outputs": [],
   "source": [
    "def check(l, num):\n",
    "    \"\"\"\n",
    "    Given an array of list l, number num\n",
    "    check if the given number is present \n",
    "    in the list.\n",
    "    \"\"\"\n",
    "    size = len(l)\n",
    "    \n",
    "    if size == 1:\n",
    "        return l[0] == num\n",
    "    \n",
    "    return check(l[1:], num) or (l[0] == num)\n",
    "\n",
    "\n",
    "check([1,2,3], 90)"
   ]
  },
  {
   "cell_type": "code",
   "execution_count": 82,
   "id": "6926134f",
   "metadata": {},
   "outputs": [],
   "source": [
    "def first_index(l, num):\n",
    "    \"\"\"\n",
    "    Given an array of list l, number num\n",
    "    return the first occurence of the number\n",
    "    in the list. \n",
    "    \n",
    "    eg:\n",
    "    first_index([38,2,6,2], 2) -> 1\n",
    "    \n",
    "    The first occurence of 2 is at l[1]\n",
    "    \"\"\"\n",
    "    size = len(l)\n",
    "    \n",
    "    if size == 1:\n",
    "        index = -1\n",
    "        if l[0] == num:\n",
    "            index = 0\n",
    "        return index\n",
    "    \n",
    "    \n",
    "    \n",
    "    return first_index(l[1:]) "
   ]
  },
  {
   "cell_type": "code",
   "execution_count": null,
   "id": "23dfbe62",
   "metadata": {},
   "outputs": [],
   "source": []
  }
 ],
 "metadata": {
  "kernelspec": {
   "display_name": "Python 3",
   "language": "python",
   "name": "python3"
  },
  "language_info": {
   "codemirror_mode": {
    "name": "ipython",
    "version": 3
   },
   "file_extension": ".py",
   "mimetype": "text/x-python",
   "name": "python",
   "nbconvert_exporter": "python",
   "pygments_lexer": "ipython3",
   "version": "3.8.6"
  }
 },
 "nbformat": 4,
 "nbformat_minor": 5
}
