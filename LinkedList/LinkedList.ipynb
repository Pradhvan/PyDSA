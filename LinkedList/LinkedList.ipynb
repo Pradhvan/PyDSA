{
 "cells": [
  {
   "cell_type": "code",
   "execution_count": 31,
   "id": "4acd11ee",
   "metadata": {},
   "outputs": [],
   "source": [
    "class ListNode:\n",
    "    def __init__ (self, data=0, next=None):\n",
    "        self.data = data\n",
    "        self.next = next"
   ]
  },
  {
   "cell_type": "code",
   "execution_count": 35,
   "id": "1a42d162",
   "metadata": {},
   "outputs": [],
   "source": [
    "# Storing data in nodes\n",
    "l1 = ListNode(10)\n",
    "l2 = ListNode(20)\n",
    "l3 = ListNode(30)\n",
    "l4 = ListNode(40)\n",
    "l5 = ListNode(50)\n",
    "l6 = ListNode(60)\n",
    "l7= ListNode(70)\n",
    "l8 = ListNode(80)\n",
    "\n",
    "# Ponter to next nodes\n",
    "l1.next = l2\n",
    "l2.next = l3\n",
    "l3.next = l4\n",
    "l4.next = l5\n",
    "l5.next = l6\n",
    "l6.next = l7\n",
    "l7.next = l8\n",
    "\n",
    "# The only way you can treverse a complete single linked list\n",
    "# is by getting the head pointer to it.\n",
    "pointer = l1"
   ]
  },
  {
   "cell_type": "code",
   "execution_count": 26,
   "id": "5d4c98e8",
   "metadata": {},
   "outputs": [],
   "source": [
    "# Storing data in nodes\n",
    "p1 = ListNode(10)\n",
    "p2 = ListNode(20)\n",
    "p3 = ListNode(30)\n",
    "p4 = ListNode(40)\n",
    "p5 = ListNode(50)\n",
    "\n",
    "# Ponter to next nodes\n",
    "p1.next = p2\n",
    "p2.next = p3\n",
    "p3.next = p4\n",
    "p4.next = p5"
   ]
  },
  {
   "cell_type": "code",
   "execution_count": 13,
   "id": "1eb7cad4",
   "metadata": {},
   "outputs": [
    {
     "name": "stdout",
     "output_type": "stream",
     "text": [
      "10\n",
      "20\n",
      "30\n"
     ]
    }
   ],
   "source": [
    "# Traversing the list till you find None value\n",
    "# None usually indicated in a singly linked list that\n",
    "# the list has ended.\n",
    "while(pointer!=None):\n",
    "    print(pointer.data)\n",
    "    pointer = pointer.next"
   ]
  },
  {
   "cell_type": "code",
   "execution_count": 21,
   "id": "83c8f8e7",
   "metadata": {},
   "outputs": [
    {
     "data": {
      "text/plain": [
       "1"
      ]
     },
     "execution_count": 21,
     "metadata": {},
     "output_type": "execute_result"
    }
   ],
   "source": [
    "def find_size(head_node):\n",
    "    \"\"\"\n",
    "    Given head of the linked list return it's size.\n",
    "    \n",
    "    Args:\n",
    "        [Class Object]head_node: Head node that store data and\n",
    "                                 pointer to the next node.\n",
    "    \n",
    "    Output:\n",
    "        [int]: size of the linked list\n",
    "    \"\"\"\n",
    "    count = 0\n",
    "    # This taken a class object for two reasons:\n",
    "        # 1. Used to traverse the head object.\n",
    "        # 2. For a single node, pointer.next would\n",
    "        # be none so this would not fail and return\n",
    "        # 1 instead of zero if the condition would be\n",
    "        # (pointer.next == None)\n",
    "    pointer = head_node\n",
    "    while(pointer!=None):\n",
    "        count = count + 1\n",
    "        pointer = pointer.next\n",
    "    return count \n",
    "\n",
    "\n",
    "l1 = ListNode(10)\n",
    "find_size(l1)"
   ]
  },
  {
   "cell_type": "code",
   "execution_count": 32,
   "id": "9740796c",
   "metadata": {},
   "outputs": [
    {
     "name": "stdout",
     "output_type": "stream",
     "text": [
      "Before\n",
      "**********\n",
      "60\n",
      "10\n",
      "20\n",
      "30\n",
      "\n",
      "\n",
      "After\n",
      "**********\n",
      "60\n",
      "60\n",
      "10\n",
      "20\n",
      "30\n"
     ]
    }
   ],
   "source": [
    "def insert_at_head(head_node, data):\n",
    "    \"\"\"\n",
    "    Given head of the linked list insert the new node at the head node.\n",
    "    \n",
    "    Args:\n",
    "        [Class Object]head_node: Head node that store data and\n",
    "                                 pointer to the next node.\n",
    "                                 \n",
    "        [int]data: New head node data.\n",
    "    \n",
    "    Outout:\n",
    "        [Class Object]node: New head node \n",
    "    \"\"\"\n",
    "    node = ListNode(data)\n",
    "    node.next = head_node\n",
    "    return node\n",
    "\n",
    "\n",
    "print(\"Before\")\n",
    "print(\"*\" * 10)\n",
    "pointer = l1\n",
    "while(pointer!=None):\n",
    "    print(pointer.data)\n",
    "    pointer = pointer.next\n",
    "    \n",
    "\n",
    "l1 = insert_at_head(l1, 60)\n",
    "print(\"\\n\")\n",
    "print(\"After\")\n",
    "print(\"*\" * 10)\n",
    "\n",
    "pointer = l1\n",
    "while(pointer!=None):\n",
    "    print(pointer.data)\n",
    "    pointer = pointer.next"
   ]
  },
  {
   "cell_type": "code",
   "execution_count": 38,
   "id": "473bcd44",
   "metadata": {},
   "outputs": [
    {
     "name": "stdout",
     "output_type": "stream",
     "text": [
      "Before\n",
      "**********\n",
      "10\n",
      "20\n",
      "30\n",
      "\n",
      "\n",
      "After\n",
      "**********\n",
      "10\n",
      "20\n",
      "30\n",
      "60\n"
     ]
    }
   ],
   "source": [
    "def insert_at_tail(last_node, data):\n",
    "    \"\"\"\n",
    "    Given last of the linked list insert the new node at the end node.\n",
    "    \n",
    "    Args:\n",
    "        [Class Object]head_node: Last node that store data and\n",
    "                                 pointer to the next node.\n",
    "                                 \n",
    "        [int]data: New last node data.\n",
    "    \n",
    "    Outout:\n",
    "        [Class Object]node: New last node \n",
    "    \"\"\"\n",
    "    node = ListNode(data)\n",
    "    last_node.next = node\n",
    "    return node\n",
    "\n",
    "\n",
    "print(\"Before\")\n",
    "print(\"*\" * 10)\n",
    "pointer = l1\n",
    "while(pointer!=None):\n",
    "    print(pointer.data)\n",
    "    pointer = pointer.next\n",
    "    \n",
    "\n",
    "insert_at_tail(l3, 60)\n",
    "print(\"\\n\")\n",
    "print(\"After\")\n",
    "print(\"*\" * 10)\n",
    "\n",
    "pointer = l1\n",
    "while(pointer!=None):\n",
    "    print(pointer.data)\n",
    "    pointer = pointer.next"
   ]
  },
  {
   "cell_type": "code",
   "execution_count": 4,
   "id": "e4fbc160",
   "metadata": {},
   "outputs": [
    {
     "name": "stdout",
     "output_type": "stream",
     "text": [
      "Before\n",
      "**********\n",
      "10\n",
      "20\n",
      "30\n",
      "40\n",
      "50\n",
      "60\n",
      "70\n",
      "80\n",
      "\n",
      "\n",
      "After\n",
      "**********\n",
      "10\n",
      "20\n",
      "30\n",
      "100\n",
      "40\n",
      "50\n",
      "60\n",
      "70\n",
      "80\n"
     ]
    }
   ],
   "source": [
    "def insert(l1, index, data):\n",
    "    \"\"\"\n",
    "    Given a linked list insert at Kth position i.e\n",
    "    \n",
    "    [1, ad2] -> [2, ad3] -> [3, ad4] -> [4, ad5] -> [5, None]\n",
    "    \n",
    "    So if k = 4, it needs to be at node at 3'rd (k-1) index, after node [4, ad5].\n",
    "    \n",
    "    Args:\n",
    "        \n",
    "        [int]index: K'th position\n",
    "        [int]data: data to be sotred in new node at Kth position\n",
    "    \n",
    "    Outout:\n",
    "        [Class Object]node: New node at the kth position\n",
    "    \"\"\"\n",
    "    t_index = 0\n",
    "    node = ListNode(data)\n",
    "    pointer = l1\n",
    "    while(pointer.next!=None):\n",
    "        if t_index == index-1:\n",
    "            break\n",
    "        t_index = t_index + 1\n",
    "        pointer = pointer.next\n",
    "        \n",
    "    # Pointer is now kth-1 node that needs to be updated\n",
    "    # Point new node to pointer's next first \n",
    "    node.next = pointer.next\n",
    "    # Than point Pointer(kth-1 node) to the new node\n",
    "    pointer.next = node\n",
    "\n",
    "\n",
    "print(\"Before\")\n",
    "print(\"*\" * 10)\n",
    "p = l1\n",
    "while(p!=None):\n",
    "    print(p.data)\n",
    "    p = p.next\n",
    "    \n",
    "\n",
    "insert(l1, 3, 100)\n",
    "\n",
    "\n",
    "print(\"\\n\")\n",
    "print(\"After\")\n",
    "print(\"*\" * 10)\n",
    "pt = l1\n",
    "while(pt!=None):\n",
    "    print(pt.data)\n",
    "    pt = pt.next\n"
   ]
  },
  {
   "cell_type": "code",
   "execution_count": 36,
   "id": "beb86b69",
   "metadata": {},
   "outputs": [
    {
     "name": "stdout",
     "output_type": "stream",
     "text": [
      "Before\n",
      "**********\n",
      "10\n",
      "20\n",
      "30\n",
      "40\n",
      "50\n",
      "60\n",
      "70\n",
      "80\n",
      "\n",
      "\n",
      "After\n",
      "**********\n",
      "80\n",
      "70\n",
      "60\n",
      "50\n",
      "40\n",
      "30\n",
      "20\n",
      "10\n"
     ]
    }
   ],
   "source": [
    "def reverse(head_node):\n",
    "    \"\"\"\n",
    "    Given a linked list reverse the linked list\n",
    "    \n",
    "    Given linked list: [1, ad2] -> [2, ad3] -> [3, ad4] -> [4, ad5] -> [5] -> None\n",
    "    \n",
    "    Reversed linked list: [5, ad4] -> [4, ad3] ->  [3, ad2] -> [2, ad1] -> [1] -> None\n",
    "        \n",
    "    Args:\n",
    "        [Class Object]head_node: First node of the linked list\n",
    "                                                            \n",
    "    \n",
    "    Outout:\n",
    "        [Class Object]head_node: New head node\n",
    "    \"\"\"\n",
    "    previous = None\n",
    "    current = head_node\n",
    "    # Traverse till the current node is None\n",
    "    while(current!=None):\n",
    "        # Store the next pointer from the current node \n",
    "        # before we change it to previous.\n",
    "        temp_next = current.next\n",
    "\n",
    "        # Mark current's next node to previous\n",
    "        # i.e Flip the switch like if we are on [1] -> None\n",
    "        # [2, ad3] -> [1] \n",
    "        current.next = previous\n",
    "\n",
    "        # Set the current node to become the previous node\n",
    "        previous = current\n",
    "        \n",
    "        # This will not be current.next since it points to previous\n",
    "        # now, so we need use temp_next that actually stores the next\n",
    "        # pointer we need to iterate on the list.\n",
    "        current = temp_next\n",
    "    \n",
    "    # Set the head node to point to the last node.\n",
    "    # i.e [5] -> [4, ad5]\n",
    "    head_node = previous\n",
    "    return head_node\n",
    "\n",
    "\n",
    "\n",
    "print(\"Before\")\n",
    "print(\"*\" * 10)\n",
    "p = l1\n",
    "while(p!=None):\n",
    "    print(p.data)\n",
    "    p = p.next\n",
    "    \n",
    "\n",
    "l1 = reverse(l1)\n",
    "\n",
    "\n",
    "print(\"\\n\")\n",
    "print(\"After\")\n",
    "print(\"*\" * 10)\n",
    "pt = l1\n",
    "while(pt!=None):\n",
    "    print(pt.data)\n",
    "    pt = pt.next\n"
   ]
  },
  {
   "cell_type": "code",
   "execution_count": 29,
   "id": "99a91cae",
   "metadata": {},
   "outputs": [],
   "source": [
    "def get_k_elemenet(l1, k):\n",
    "    \"\"\"\n",
    "    Given a linked list get kth node data.\n",
    "    \n",
    "    Args:\n",
    "        [Class Object]l1: Head Node\n",
    "        [int]k: Index to fetch data\n",
    "    \n",
    "    Output:\n",
    "        [int]: Kth node data\n",
    "    \"\"\"\n",
    "    count = 0\n",
    "    while(l1 != None):\n",
    "        if count == k:\n",
    "            break\n",
    "        l1 = l1.next\n",
    "        count = count + 1 \n",
    "    return l1.data"
   ]
  },
  {
   "cell_type": "code",
   "execution_count": 16,
   "id": "980a1ade",
   "metadata": {},
   "outputs": [
    {
     "data": {
      "text/plain": [
       "50"
      ]
     },
     "execution_count": 16,
     "metadata": {},
     "output_type": "execute_result"
    }
   ],
   "source": [
    "get_k_elemenet(l1, 4)"
   ]
  },
  {
   "cell_type": "code",
   "execution_count": 35,
   "id": "172fc869",
   "metadata": {},
   "outputs": [],
   "source": [
    "def are_two_linked_list_equal(l1, l2):\n",
    "    \"\"\"\n",
    "    Given a linked list get kth node data.\n",
    "    \n",
    "    Args:\n",
    "        [Class Object]l1: Head Node of l1\n",
    "        [Class Object]l1: Head Node of l2\n",
    "    \n",
    "    Output:\n",
    "        [bool]     \n",
    "    \"\"\"\n",
    "    while (l1!=None and l2!=None):\n",
    "        \n",
    "        if l1.data != l2.data:\n",
    "            # Not Equal\n",
    "            return False\n",
    "\n",
    "        # Check if the linked list are of same length\n",
    "        if (l1.next is None and l1.next is None) or ((l1.next is not None and l2.next is None)):\n",
    "            return False\n",
    "\n",
    "        l1 = l1.next\n",
    "        l2 = l2.next\n",
    "    return True"
   ]
  },
  {
   "cell_type": "code",
   "execution_count": 36,
   "id": "fa1ab2cc",
   "metadata": {},
   "outputs": [
    {
     "name": "stdout",
     "output_type": "stream",
     "text": [
      "False\n"
     ]
    }
   ],
   "source": [
    "print(are_two_linked_list_equal(l1, p1))"
   ]
  },
  {
   "cell_type": "code",
   "execution_count": null,
   "id": "576fb5d2",
   "metadata": {},
   "outputs": [],
   "source": []
  }
 ],
 "metadata": {
  "kernelspec": {
   "display_name": "Python 3 (ipykernel)",
   "language": "python",
   "name": "python3"
  },
  "language_info": {
   "codemirror_mode": {
    "name": "ipython",
    "version": 3
   },
   "file_extension": ".py",
   "mimetype": "text/x-python",
   "name": "python",
   "nbconvert_exporter": "python",
   "pygments_lexer": "ipython3",
   "version": "3.10.6"
  }
 },
 "nbformat": 4,
 "nbformat_minor": 5
}
