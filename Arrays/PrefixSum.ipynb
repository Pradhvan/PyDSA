{
 "cells": [
  {
   "cell_type": "code",
   "execution_count": 1,
   "id": "cdb1f18d",
   "metadata": {},
   "outputs": [],
   "source": [
    "def prefix_sum(a):\n",
    "    \"\"\"\n",
    "    prefix sum = a[0] + a[1] + ... + a[i]\n",
    "    \n",
    "    args:\n",
    "        a list of ints\n",
    "        \n",
    "    Input:\n",
    "        a = [3, 2, 1, 5, 4]\n",
    "\n",
    "    Output:\n",
    "        [3, 5, 6, 11, 15]\n",
    "    \"\"\"\n",
    "    prefix_sum = [0] * len(a)\n",
    "    prefix_sum[0] = a[0]\n",
    "    \n",
    "    for index, value in enumerate(a):\n",
    "        if index < len(a)-1:\n",
    "            index_to_update = index + 1\n",
    "            value = value + a[index_to_update]\n",
    "            prefix_sum[index_to_update] = value\n",
    "    return prefix_sum"
   ]
  },
  {
   "cell_type": "code",
   "execution_count": 2,
   "id": "b6b371a3",
   "metadata": {},
   "outputs": [
    {
     "data": {
      "text/plain": [
       "[1, 3, 5, 7]"
      ]
     },
     "execution_count": 2,
     "metadata": {},
     "output_type": "execute_result"
    }
   ],
   "source": [
    "a = [1,2,3,4]\n",
    "prefix_sum(a)"
   ]
  },
  {
   "cell_type": "code",
   "execution_count": null,
   "id": "c348bae0",
   "metadata": {},
   "outputs": [],
   "source": []
  }
 ],
 "metadata": {
  "kernelspec": {
   "display_name": "Python 3 (ipykernel)",
   "language": "python",
   "name": "python3"
  },
  "language_info": {
   "codemirror_mode": {
    "name": "ipython",
    "version": 3
   },
   "file_extension": ".py",
   "mimetype": "text/x-python",
   "name": "python",
   "nbconvert_exporter": "python",
   "pygments_lexer": "ipython3",
   "version": "3.10.6"
  }
 },
 "nbformat": 4,
 "nbformat_minor": 5
}
