{
 "cells": [
  {
   "cell_type": "markdown",
   "id": "b069034c",
   "metadata": {},
   "source": [
    "🌳 Trees are hierarchical data structure.\n",
    "\n",
    "* Only one root node\n",
    "\n",
    "* Root is the only node without a parent.\n",
    "\n",
    "* Nodes can have any number of childrens.\n",
    "\n",
    "* Every node would have only one parent, except root which won't have any parent. \n",
    "\n",
    "* Edges - lines that connect the node. \n",
    "\n",
    "* Path - based on no of edges.\n",
    "\n",
    "* Height of a tree - length of the longest path from node to any of it's descendent leaf node.\n",
    "\n",
    "> Height(node) = 1 + Max Height of it's child node.\n",
    "\n",
    "> Height(tree) = height of the root node.\n",
    "\n",
    "* If tree is empty level 0 would be None\n",
    "\n",
    "* Depth = lenght of path from root to the node.\n",
    "\n",
    "* Height node != Depth of the node\n",
    "\n",
    "* Height of a tree == depth of the tree\n",
    "\n",
    "* *Binary Tree* has at max two childrens\n",
    "\n",
    "* Lib for [binarytree](https://pypi.org/project/binarytree/) visualization. "
   ]
  },
  {
   "cell_type": "code",
   "execution_count": 3,
   "id": "cd48b013",
   "metadata": {},
   "outputs": [],
   "source": [
    "class Node:\n",
    "    def __init__(self, data):\n",
    "        self.data = data\n",
    "        self.right = None\n",
    "        self.left = None"
   ]
  },
  {
   "cell_type": "code",
   "execution_count": 2,
   "id": "ad41ce52",
   "metadata": {},
   "outputs": [],
   "source": [
    "\"\"\"\n",
    "   [Level 0]             1\n",
    "   [Level 1]         2        3\n",
    "   [Level 2]     4      6  7      5\n",
    "\"\"\"\n",
    "\n",
    "\n",
    "root = Node(1)\n",
    "root.left = Node(2)\n",
    "root.right = Node(3)\n",
    "root.left.left = Node(4)\n",
    "root.left.right = Node(6)\n",
    "root.right.left = Node(7)\n",
    "root.right.right = Node(5)"
   ]
  },
  {
   "cell_type": "markdown",
   "id": "dd8a47c7",
   "metadata": {},
   "source": [
    "#### Preorder Trevarsal - DLR (Data, Left, Right)\n",
    "\n",
    "* Print the data of the node.\n",
    "\n",
    "* Go to the LST(left sub tree) and print entire LST in preorder\n",
    "\n",
    "* Go to the RST(right sub tree) and print entire RST in preorder"
   ]
  },
  {
   "cell_type": "code",
   "execution_count": 16,
   "id": "aa7b15c9",
   "metadata": {},
   "outputs": [],
   "source": [
    "def preorder(root):\n",
    "\n",
    "    # Base case\n",
    "    if root is not None:\n",
    "\n",
    "        # Print the data of the node.\n",
    "        print(str(root.data) + \"->\", end='')\n",
    "        \n",
    "        # Go to the LST(left sub tree) and print entire LST in preorder\n",
    "        preorder(root.left)\n",
    "        \n",
    "        # Go to the RST(right sub tree) and print entire RST in preorder\n",
    "        preorder(root.right)"
   ]
  },
  {
   "cell_type": "markdown",
   "id": "1c60999e",
   "metadata": {},
   "source": [
    "1. `find_min():` finds minimum element in entire binary tree\n",
    "2. `find_max():` finds maximum element in entire binary tree\n",
    "3. `calculate_sum():` calcualtes sum of all elements"
   ]
  },
  {
   "cell_type": "markdown",
   "id": "007e2f76",
   "metadata": {},
   "source": [
    "#### Postorder Trevarsal - - LRD (Left, Right, Data)\n",
    "\n",
    "* Go to the LST(left sub tree) and print entire LST in preorder\n",
    "* Go to the RST(right sub tree) and print entire RST in preorder\n",
    "* Print the data of the node."
   ]
  },
  {
   "cell_type": "code",
   "execution_count": 14,
   "id": "fb95eccc",
   "metadata": {},
   "outputs": [],
   "source": [
    "def postorder(root):\n",
    "    if root is not None:\n",
    "        \n",
    "        # Go to the LST(left sub tree) and print entire LST in preorder\n",
    "        postorder(root.left)\n",
    "        \n",
    "         # Go to the RST(right sub tree) and print entire RST in preorder\n",
    "        postorder(root.right)\n",
    "        \n",
    "        # Print the data of the node.\n",
    "        print(str(root.data) + \"->\", end='')"
   ]
  },
  {
   "cell_type": "markdown",
   "id": "f0507aee",
   "metadata": {},
   "source": [
    "#### Inorder Trevarsal - LDR (Left, Data, Right)\n",
    "\n",
    "* Go to the LST(left sub tree) and print entire LST in preorder\n",
    "* Print the data of the node.\n",
    "* Go to the RST(right sub tree) and print entire RST in preorder"
   ]
  },
  {
   "cell_type": "code",
   "execution_count": 4,
   "id": "e8565c34",
   "metadata": {},
   "outputs": [],
   "source": [
    "# Recursion\n",
    "\n",
    "def inorder(root):\n",
    "    if root is not None:\n",
    "        # Go to the LST(left sub tree) and print entire LST in preorder\n",
    "        inorder(root.left)\n",
    "        \n",
    "        # Print the data of the node.\n",
    "        print(str(root.data) + \"->\", end='')\n",
    "        \n",
    "         # Go to the RST(right sub tree) and print entire RST in preorder\n",
    "        inorder(root.right)"
   ]
  },
  {
   "cell_type": "code",
   "execution_count": null,
   "id": "0d19ce7d",
   "metadata": {},
   "outputs": [],
   "source": [
    "# Iterative\n",
    "\n",
    "def inorder_it(root):\n",
    "    \n",
    "    while root:\n",
    "        "
   ]
  },
  {
   "cell_type": "code",
   "execution_count": 10,
   "id": "0f12d200",
   "metadata": {},
   "outputs": [
    {
     "name": "stdout",
     "output_type": "stream",
     "text": [
      "4->2->6->1->7->3->5->"
     ]
    }
   ],
   "source": [
    "inorder(root)"
   ]
  },
  {
   "cell_type": "code",
   "execution_count": 12,
   "id": "fd51a6f1",
   "metadata": {},
   "outputs": [
    {
     "name": "stdout",
     "output_type": "stream",
     "text": [
      "4->6->2->7->5->3->1->"
     ]
    }
   ],
   "source": [
    "postorder(root)"
   ]
  },
  {
   "cell_type": "code",
   "execution_count": 13,
   "id": "a9ea4d7a",
   "metadata": {},
   "outputs": [
    {
     "name": "stdout",
     "output_type": "stream",
     "text": [
      "1->2->4->6->3->7->5->"
     ]
    }
   ],
   "source": [
    "preorder(root)"
   ]
  },
  {
   "cell_type": "code",
   "execution_count": 20,
   "id": "0712d45d",
   "metadata": {},
   "outputs": [],
   "source": [
    "def count_total_nodes(root):\n",
    "    \"\"\"\n",
    "    Given the root node, return total number of\n",
    "    nodes in a tree.\n",
    "    \n",
    "    Args:\n",
    "        [Class Object]root: Root node\n",
    "    \n",
    "    Output:\n",
    "        [int]: Count of total number of nodes\n",
    "    \"\"\"\n",
    "    if root is None:\n",
    "        return 0\n",
    "\n",
    "    left_size = count_total_nodes(root.left)\n",
    "    right_size = count_total_nodes(root.right)\n",
    "    return left_size + right_size + 1"
   ]
  },
  {
   "cell_type": "code",
   "execution_count": 19,
   "id": "631ceb8c",
   "metadata": {},
   "outputs": [
    {
     "data": {
      "text/plain": [
       "7"
      ]
     },
     "execution_count": 19,
     "metadata": {},
     "output_type": "execute_result"
    }
   ],
   "source": [
    "count_total_nodes(root)"
   ]
  },
  {
   "cell_type": "code",
   "execution_count": 34,
   "id": "e5c1701b",
   "metadata": {},
   "outputs": [],
   "source": [
    "def sum_of_nodes(root):\n",
    "    \"\"\"\n",
    "    Given the root node, return sum of all the numbers of the node.\n",
    "    \n",
    "    Args:\n",
    "        [Class Object]root: Root node\n",
    "        \n",
    "    Output:\n",
    "        [int]: Sum of all the nodes\n",
    "    \"\"\"\n",
    "    if root is None:\n",
    "        return 0\n",
    "    \n",
    "    left_size = sum_total_nodes(root.left)\n",
    "    right_size = sum_total_nodes(root.right)\n",
    "    return left_size + right_size + root.data"
   ]
  },
  {
   "cell_type": "code",
   "execution_count": 32,
   "id": "b9389e31",
   "metadata": {},
   "outputs": [
    {
     "data": {
      "text/plain": [
       "28"
      ]
     },
     "execution_count": 32,
     "metadata": {},
     "output_type": "execute_result"
    }
   ],
   "source": [
    "sum_total_nodes(root)"
   ]
  },
  {
   "cell_type": "markdown",
   "id": "08268c24",
   "metadata": {},
   "source": [
    "```\n",
    "    3\n",
    "   / \\\n",
    "  9  20\n",
    "    /  \\\n",
    "   15   7\n",
    "```\n",
    "\n",
    "* Left leaf node in the given tree are 9 and 15. Return 24 (9 + 15).\n",
    "\n",
    "* Right leaf node in the given tree are 7. Return 7 "
   ]
  },
  {
   "cell_type": "code",
   "execution_count": 8,
   "id": "c9c79de8",
   "metadata": {},
   "outputs": [],
   "source": [
    "root = Node(3)\n",
    "root.left = Node(9)\n",
    "root.right = Node(20)\n",
    "root.right.left = Node(15)\n",
    "root.right.right = Node(7)"
   ]
  },
  {
   "cell_type": "code",
   "execution_count": 10,
   "id": "c617dc56",
   "metadata": {},
   "outputs": [
    {
     "data": {
      "text/plain": [
       "24"
      ]
     },
     "execution_count": 10,
     "metadata": {},
     "output_type": "execute_result"
    }
   ],
   "source": [
    "def is_leaf(node):\n",
    "    return bool(node and not node.left and not node.right)\n",
    "\n",
    "# This function returns sum of all left leaves in a given binary tree\n",
    "def left_leaves_sum(root):\n",
    "    # Initialize result\n",
    "    result = 0\n",
    "\n",
    "    # Update result if root is not None\n",
    "    if root:\n",
    "        # If left of root is leaf node, then add val of left child\n",
    "        if is_leaf(root.left):\n",
    "            result += root.left.data\n",
    "        \n",
    "        # Else traverse for left child of root\n",
    "        else:\n",
    "            result += leftLeavesSum(root.left)\n",
    "        \n",
    "        # Recur for right child of root and update res\n",
    "        result += leftLeavesSum(root.right)\n",
    "\n",
    "    # return result\n",
    "    return result\n",
    "\n",
    "leftLeavesSum(root)"
   ]
  },
  {
   "cell_type": "code",
   "execution_count": null,
   "id": "4f6995ab",
   "metadata": {},
   "outputs": [],
   "source": []
  },
  {
   "cell_type": "code",
   "execution_count": null,
   "id": "2301d0a0",
   "metadata": {},
   "outputs": [],
   "source": []
  },
  {
   "cell_type": "code",
   "execution_count": null,
   "id": "6f699ab8",
   "metadata": {},
   "outputs": [],
   "source": []
  },
  {
   "cell_type": "code",
   "execution_count": null,
   "id": "b7fd40fa",
   "metadata": {},
   "outputs": [],
   "source": []
  }
 ],
 "metadata": {
  "kernelspec": {
   "display_name": "Python 3 (ipykernel)",
   "language": "python",
   "name": "python3"
  },
  "language_info": {
   "codemirror_mode": {
    "name": "ipython",
    "version": 3
   },
   "file_extension": ".py",
   "mimetype": "text/x-python",
   "name": "python",
   "nbconvert_exporter": "python",
   "pygments_lexer": "ipython3",
   "version": "3.10.6"
  }
 },
 "nbformat": 4,
 "nbformat_minor": 5
}
