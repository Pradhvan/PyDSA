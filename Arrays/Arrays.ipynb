{
 "cells": [
  {
   "cell_type": "code",
   "execution_count": 39,
   "id": "684bd07f",
   "metadata": {},
   "outputs": [],
   "source": [
    "from math import sqrt\n",
    "\n",
    "def is_prime(number):\n",
    "    count = 0\n",
    "    root = int(sqrt(number))\n",
    "    for i in range(1, root+1):\n",
    "        if number%i == 0:\n",
    "            if i == number/i:\n",
    "                count = count + 1\n",
    "            else:\n",
    "                count = count + 2\n",
    "    return count"
   ]
  },
  {
   "cell_type": "code",
   "execution_count": 41,
   "id": "12abb689",
   "metadata": {},
   "outputs": [
    {
     "data": {
      "text/plain": [
       "4"
      ]
     },
     "execution_count": 41,
     "metadata": {},
     "output_type": "execute_result"
    }
   ],
   "source": [
    "is_prime(10)"
   ]
  },
  {
   "cell_type": "code",
   "execution_count": 32,
   "id": "badf2b8a",
   "metadata": {},
   "outputs": [],
   "source": [
    "n = 9\n",
    "def perf(n):\n",
    "    for i in range(1, n):\n",
    "        if (i * i == n):\n",
    "            return i"
   ]
  },
  {
   "cell_type": "code",
   "execution_count": 36,
   "id": "f193f655",
   "metadata": {},
   "outputs": [
    {
     "data": {
      "text/plain": [
       "4"
      ]
     },
     "execution_count": 36,
     "metadata": {},
     "output_type": "execute_result"
    }
   ],
   "source": [
    "perf(16)"
   ]
  },
  {
   "cell_type": "code",
   "execution_count": 42,
   "id": "fec6b0c1",
   "metadata": {},
   "outputs": [],
   "source": [
    "n = 5\n",
    "prime = [True for i in range(n+1)]"
   ]
  },
  {
   "cell_type": "code",
   "execution_count": 43,
   "id": "b5044b17",
   "metadata": {},
   "outputs": [
    {
     "data": {
      "text/plain": [
       "[True, True, True, True, True, True]"
      ]
     },
     "execution_count": 43,
     "metadata": {},
     "output_type": "execute_result"
    }
   ],
   "source": [
    "prime"
   ]
  },
  {
   "cell_type": "code",
   "execution_count": 45,
   "id": "7a032965",
   "metadata": {},
   "outputs": [],
   "source": [
    " def SieveOfEratosthenes(n):\n",
    "    prime = [True for i in range(n+1)]\n",
    "    p = 2\n",
    "    while (p * p <= n):\n",
    "        if (prime[p] == True):\n",
    " \n",
    "            # Update all multiples of p\n",
    "            for i in range(p * p, n+1, p):\n",
    "                prime[i] = False\n",
    "        p += 1\n",
    " \n",
    "    # Print all prime numbers\n",
    "    for p in range(2, n+1):\n",
    "        if prime[p]:\n",
    "            print(p)"
   ]
  },
  {
   "cell_type": "code",
   "execution_count": 46,
   "id": "f974b194",
   "metadata": {},
   "outputs": [
    {
     "name": "stdout",
     "output_type": "stream",
     "text": [
      "2\n",
      "3\n",
      "5\n",
      "7\n"
     ]
    }
   ],
   "source": [
    "SieveOfEratosthenes(10)"
   ]
  },
  {
   "cell_type": "code",
   "execution_count": 5,
   "id": "f1acf1de",
   "metadata": {},
   "outputs": [],
   "source": [
    "def reverse(a):\n",
    "    j = len(a) - 1\n",
    "    for i in range(j):\n",
    "        if i < j:\n",
    "            a[i],a[j] = a[j], a[i]\n",
    "            j = j - 1\n",
    "        else:\n",
    "            break\n",
    "    return a"
   ]
  },
  {
   "cell_type": "code",
   "execution_count": 6,
   "id": "3bff1856",
   "metadata": {},
   "outputs": [
    {
     "data": {
      "text/plain": [
       "[26, 58, 87, 33, 19, 81, 36, 4, 39, 100, 74, 74, 20, 8, 9, 22, 65, 32, 42]"
      ]
     },
     "execution_count": 6,
     "metadata": {},
     "output_type": "execute_result"
    }
   ],
   "source": [
    "a = [ 42, 32, 65, 22, 9, 8, 20, 74, 74, 100, 39, 4, 36, 81, 19, 33, 87, 58, 26 ]\n",
    "reverse(a)"
   ]
  },
  {
   "cell_type": "code",
   "execution_count": 17,
   "id": "565ca81a",
   "metadata": {},
   "outputs": [],
   "source": [
    "def good_pair(a, b):\n",
    "    \"\"\"\n",
    "    Given an array A and an integer B. \n",
    "    A Pair(i, j) in the array is a good pair if i != j and (A[i] + A[j] == B). \n",
    "    Check if any good pair exist or not.\n",
    "    \n",
    "    Args:\n",
    "        a: list of integers\n",
    "        b: int\n",
    "    \n",
    "    \"\"\"\n",
    "    for i in range(len(a)):\n",
    "        for j in range(i+1, len(a)):\n",
    "            #print(i, j)\n",
    "            #print(f\"Value of i: {a[i]} and value of j: {a[j]}\")\n",
    "            if a[i] + a[j] == b:\n",
    "                return 1\n",
    "    return 0    "
   ]
  },
  {
   "cell_type": "code",
   "execution_count": 20,
   "id": "e9e3bef6",
   "metadata": {},
   "outputs": [
    {
     "data": {
      "text/plain": [
       "1"
      ]
     },
     "execution_count": 20,
     "metadata": {},
     "output_type": "execute_result"
    }
   ],
   "source": [
    "a = [1,3,4]\n",
    "b = 4\n",
    "good_pair(a, b)"
   ]
  },
  {
   "cell_type": "code",
   "execution_count": 1,
   "id": "402c326c",
   "metadata": {},
   "outputs": [],
   "source": [
    "def prefix_sum(a):\n",
    "    \"\"\"\n",
    "    prefix sum = a[0] + a[1] + ... + a[i]\n",
    "    \n",
    "    args:\n",
    "        a list of ints\n",
    "        \n",
    "    Input:\n",
    "        a = [3, 2, 1, 5, 4]\n",
    "\n",
    "    Output:\n",
    "        [3, 5, 6, 11, 15]\n",
    "    \"\"\"\n",
    "    prefix_sum = [0] * len(a)\n",
    "    prefix_sum[0] = a[0]\n",
    "    \n",
    "    for index, value in enumerate(a):\n",
    "        if index < len(a)-1:\n",
    "            index_to_update = index + 1\n",
    "            value = value + a[index_to_update]\n",
    "            prefix_sum[index_to_update] = value\n",
    "    return prefix_sum\n",
    "        "
   ]
  },
  {
   "cell_type": "code",
   "execution_count": 2,
   "id": "d7fd8e43",
   "metadata": {},
   "outputs": [
    {
     "data": {
      "text/plain": [
       "[1, 3, 5, 7]"
      ]
     },
     "execution_count": 2,
     "metadata": {},
     "output_type": "execute_result"
    }
   ],
   "source": [
    "a = [1,2,3,4]\n",
    "prefix_sum(a)"
   ]
  },
  {
   "cell_type": "code",
   "execution_count": 4,
   "id": "9c5299eb",
   "metadata": {},
   "outputs": [
    {
     "data": {
      "text/plain": [
       "[1, 2, 3, 4]"
      ]
     },
     "execution_count": 4,
     "metadata": {},
     "output_type": "execute_result"
    }
   ],
   "source": [
    "a"
   ]
  },
  {
   "cell_type": "code",
   "execution_count": 5,
   "id": "3d72a4f6",
   "metadata": {},
   "outputs": [],
   "source": [
    "def count_elements(A):\n",
    "    \"\"\"\n",
    "    Given an array A of N integers. \n",
    "    Count the number of elements that have at least 1 elements greater than itself.\n",
    "\n",
    "    A = [3, 1, 2]\n",
    "    Output -> 1\n",
    "    The elements that have at least 1 element greater than itself are 1 and 2\n",
    "\n",
    "\n",
    "    Args:\n",
    "        [list]A: list to be searched upon\n",
    "\n",
    "    Output:\n",
    "        [int]Count: Count of element\n",
    "\n",
    "    \"\"\"\n",
    "    a = -1\n",
    "    count = 0\n",
    "    for i in range(len(A)):\n",
    "        for j in range(len(A)-1):\n",
    "            if i != j:\n",
    "                if A[i] > A[j]:\n",
    "                    count = count + 1\n",
    "    return count"
   ]
  },
  {
   "cell_type": "code",
   "execution_count": 16,
   "id": "8053be77",
   "metadata": {},
   "outputs": [],
   "source": [
    "A = [2, 4, 1, 3, 2]"
   ]
  },
  {
   "cell_type": "code",
   "execution_count": 15,
   "id": "f93b95bf",
   "metadata": {},
   "outputs": [],
   "source": [
    "def time_to_equality(A):\n",
    "    \"\"\"\n",
    "    Given an integer array A of size N. In one second, you can increase \n",
    "    the value of one element by 1.\n",
    "\n",
    "    Find the minimum time in seconds to make all elements of the array equal.\n",
    "    \n",
    "    A = [2, 4, 1, 3, 2]\n",
    "    Output -> 8\n",
    "    \n",
    "    We can change the array A = [4, 4, 4, 4, 4]. \n",
    "    The time required will be 8 seconds.\n",
    "    \n",
    "    Args:\n",
    "        [list]A: list to be searched upon\n",
    "\n",
    "    Output:\n",
    "        [int]Count: Count to equality\n",
    "    \"\"\"\n",
    "    a = -1\n",
    "    count = 0\n",
    "        \n",
    "    # Get the largeset element in the list\n",
    "    for i in A:\n",
    "        if i > a:\n",
    "            a = i\n",
    "        \n",
    "    # Count to equality i.e largest number - number\n",
    "    # would give the difference between the number.\n",
    "    for i in A:\n",
    "        if i != a:\n",
    "            count = count + (a - i)\n",
    "    return count"
   ]
  },
  {
   "cell_type": "code",
   "execution_count": 17,
   "id": "bf45501c",
   "metadata": {},
   "outputs": [
    {
     "name": "stdout",
     "output_type": "stream",
     "text": [
      "8\n"
     ]
    }
   ],
   "source": [
    "print(time_to_equality(A))"
   ]
  },
  {
   "cell_type": "code",
   "execution_count": null,
   "id": "c2a78a9d",
   "metadata": {},
   "outputs": [],
   "source": []
  }
 ],
 "metadata": {
  "kernelspec": {
   "display_name": "Python 3 (ipykernel)",
   "language": "python",
   "name": "python3"
  },
  "language_info": {
   "codemirror_mode": {
    "name": "ipython",
    "version": 3
   },
   "file_extension": ".py",
   "mimetype": "text/x-python",
   "name": "python",
   "nbconvert_exporter": "python",
   "pygments_lexer": "ipython3",
   "version": "3.10.6"
  }
 },
 "nbformat": 4,
 "nbformat_minor": 5
}
